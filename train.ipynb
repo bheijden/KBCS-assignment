{
 "nbformat": 4,
 "nbformat_minor": 0,
 "metadata": {
  "colab": {
   "name": "KBCS-assignment.ipynb",
   "provenance": [],
   "collapsed_sections": [
    "XNZh4MYBkIRf",
    "_-Zv75R6jsA_",
    "xMcysHTcj298",
    "pKwgYomej7t9"
   ],
   "toc_visible": true
  },
  "kernelspec": {
   "name": "python3",
   "language": "python",
   "display_name": "Python 3"
  },
  "pycharm": {
   "stem_cell": {
    "cell_type": "raw",
    "source": [],
    "metadata": {
     "collapsed": false
    }
   }
  }
 },
 "cells": [
  {
   "cell_type": "markdown",
   "metadata": {
    "id": "WaTiAAH-nrln"
   },
   "source": [
    "## **Vision-based angle prediction (SC42050 - Knowledge Based Control Systems)**"
   ]
  },
  {
   "cell_type": "markdown",
   "metadata": {
    "id": "XNZh4MYBkIRf"
   },
   "source": [
    "# Optionally seed the run, define your model, and fit to the training data "
   ]
  },
  {
   "cell_type": "code",
   "metadata": {
    "colab": {
     "base_uri": "https://localhost:8080/",
     "height": 626
    },
    "id": "Bp04koNTfLBu",
    "outputId": "72c1710a-4fb5-4711-e56b-67bfd3ed946f",
    "pycharm": {
     "is_executing": false
    }
   },
   "source": [
    "import tensorflow as tf\n",
    "import numpy as np\n",
    "import matplotlib.pyplot as plt\n",
    "import h5py\n",
    "\n",
    "# FUNCTION TO SEED PSEUDO-RANDOM GENERATORS\n",
    "def seed_experiment(seed=None, use_cpu=True):\n",
    "    import os\n",
    "    os.environ['TF_CPP_MIN_LOG_LEVEL'] = '3'\n",
    "    import random\n",
    "    import numpy as np\n",
    "    import tensorflow as tf\n",
    "\n",
    "    # Seed value\n",
    "    # Apparently you may use different seed values at each stage\n",
    "    seed_value = seed\n",
    "\n",
    "    # 1. Set `PYTHONHASHSEED` environment variable at a fixed value\n",
    "    os.environ['PYTHONHASHSEED'] = str(seed_value)\n",
    "\n",
    "    # 2. Set `python` built-in pseudo-random generator at a fixed value\n",
    "    random.seed(seed_value)\n",
    "\n",
    "    # 3. Set `numpy` pseudo-random generator at a fixed value\n",
    "    np.random.seed(seed_value)\n",
    "\n",
    "    # 4. Set the `tensorflow` pseudo-random generator at a fixed value\n",
    "    tf.random.set_seed(seed_value)\n",
    "    \n",
    "    # 5. force tensorflow to use CPU\n",
    "    if use_cpu:\n",
    "        os.environ['CUDA_VISIBLE_DEVICES'] = ''\n",
    "    return seed_value\n",
    "\n",
    "# SEED EXPERIMENT TO CREATE REPRODUCIBLE RESULTS\n",
    "\"\"\"TASK 1.4: PSEUDO-RANDOM GENERATOR\"\"\"\n",
    "seed_value = 0\n",
    "# seed_experiment(seed=seed_value)  # Comment this line to disable the seeding\n",
    "\"\"\"TASK 1.4: END\"\"\"\n",
    "\n",
    "# LOAD DATASET\n",
    "with h5py.File('./dataset.h5', 'r') as hf:\n",
    "    observation = hf['observation.h5'][:]\n",
    "    state = hf['state.h5'][:]\n",
    "print('Loaded observation data: %s' % str(observation.shape))\n",
    "print('Loaded state data: %s' % str(state.shape))\n",
    "\n",
    "# DATASET PARAMETERS\n",
    "num_examples = 12000\n",
    "observation = observation[:num_examples]\n",
    "state = state[:num_examples]\n",
    "\n",
    "# DATA PRE-PROCESSING\n",
    "# Scale pixel values to a range of 0 to 1 before feeding them to the neural network model.\n",
    "observation = observation.astype(np.float32) / 255.\n",
    "\n",
    "# CREATE TEST DATASET\n",
    "test_split = 0.2\n",
    "if 0 < test_split < 1:\n",
    "    split_at = int(len(observation) * (1 - test_split))\n",
    "else:\n",
    "    raise ValueError('Must hold-out data as a test dataset. Set parameter 0 < test_split < 1.')\n",
    "test_obs = observation[split_at:, :, :, :]\n",
    "test_theta = state[split_at:, 0]\n",
    "test_trig = np.hstack([np.sin(test_theta)[:, None], np.cos(test_theta)[:, None]])\n",
    "\n",
    "# CREATE TRAINING DATASET\n",
    "train_obs = observation[:split_at, :, :, :]\n",
    "train_theta = state[:split_at, 0]\n",
    "train_trig = np.hstack([np.sin(train_theta)[:, None], np.cos(train_theta)[:, None]])\n",
    "\n",
    "# VERIFY TRAINING DATA\n",
    "# To verify that the data is in the correct format and that you're ready to build and train the network,\n",
    "# let's display the first 25 images from the dataset and display the corresponding theta value below each image.\n",
    "plt.figure(figsize=(10, 10))\n",
    "for i in range(25):\n",
    "    plt.subplot(5, 5, i+1)\n",
    "    plt.xticks([])\n",
    "    plt.yticks([])\n",
    "    plt.grid(False)\n",
    "    plt.imshow(train_obs[i])\n",
    "    plt.xlabel(str(round(train_theta[i]/np.pi, 2)) + '$\\\\pi$')\n",
    "plt.show()\n",
    "\n",
    "# MODEL PARAMETERS\n",
    "model_type = 'model_theta'  # 'model_theta', 'model_trig', 'model_cnn'\n",
    "\n",
    "# BUILD MODELS\n",
    "# Building the neural network requires configuring the layers of the model, then compiling the model.\n",
    "if model_type == 'model_theta':  # Predict theta directly\n",
    "    \"\"\"TASK 1.1: CREATE MODEL HERE\"\"\"\n",
    "    \n",
    "    \"\"\"TASK 1.1: END\"\"\"\n",
    "    str_model_type = '$M^\\\\theta$'\n",
    "elif model_type == 'model_trig':  # Predict trigonometric functions of theta\n",
    "    \"\"\"TASK 1.2: CREATE MODEL HERE\"\"\"\n",
    "    \n",
    "    \"\"\"TASK 1.2: END\"\"\"\n",
    "    str_model_type = '$M^{trig}$'\n",
    "elif model_type == 'model_cnn':  # Use a CNN\n",
    "    \"\"\"TASK 1.3: CREATE MODEL HERE\"\"\"\n",
    "    \n",
    "    \"\"\"TASK 1.3: END\"\"\"\n",
    "    str_model_type = '$M^{cnn}$'\n",
    "else:\n",
    "    raise ValueError('Unknown model type selected.')\n",
    "\n",
    "# VERIFY THAT A MODEL WAS DEFINED\n",
    "try:\n",
    "    model\n",
    "except NameError:\n",
    "    raise ValueError(\"Variable 'model' not defined! Make sure to name every keras model 'model'!\")\n",
    "\n",
    "# COMPILE MODEL\n",
    "\"\"\"TASK 1.1: COMPILE MODEL HERE\"\"\"\n",
    "\n",
    "\"\"\"TASK 1.1: END\"\"\"\n",
    "\n",
    "# FIT MODEL ON DATA\n",
    "validation_split = 0.2\n",
    "shuffle = True\n",
    "batch_size = 64\n",
    "epochs = 30\n",
    "if model_type != 'model_theta':  # i.e. 'model_trig', 'model_cnn'\n",
    "    \"\"\"TASK 1.2: TRAIN MODEL HERE\"\"\"\n",
    "    \n",
    "    \"\"\"TASK 1.2: END\"\"\"\n",
    "else: # i.e. 'model_theta'\n",
    "    \"\"\"TASK 1.1: TRAIN MODEL HERE\"\"\"\n",
    "    \n",
    "    \"\"\"TASK 1.1: END\"\"\""
   ],
   "execution_count": 1,
   "outputs": [
    {
     "name": "stdout",
     "text": [
      "Loaded observation data: (12120, 28, 28, 3)\n",
      "Loaded state data: (12120, 2)\n"
     ],
     "output_type": "stream"
    },
    {
     "data": {
      "text/plain": "<Figure size 720x720 with 25 Axes>",
      "image/png": "[encoded data removed]"
     },
     "metadata": {},
     "output_type": "display_data"
    },
    {
     "traceback": [
      "\u001b[0;31m---------------------------------------------------------------------------\u001b[0m",
      "\u001b[0;31mNameError\u001b[0m                                 Traceback (most recent call last)",
      "\u001b[0;32m<ipython-input-1-09ed3c06cf1a>\u001b[0m in \u001b[0;36m<module>\u001b[0;34m\u001b[0m\n\u001b[1;32m    109\u001b[0m \u001b[0;32mtry\u001b[0m\u001b[0;34m:\u001b[0m\u001b[0;34m\u001b[0m\u001b[0;34m\u001b[0m\u001b[0m\n\u001b[0;32m--> 110\u001b[0;31m     \u001b[0mmodel\u001b[0m\u001b[0;34m\u001b[0m\u001b[0;34m\u001b[0m\u001b[0m\n\u001b[0m\u001b[1;32m    111\u001b[0m \u001b[0;32mexcept\u001b[0m \u001b[0mNameError\u001b[0m\u001b[0;34m:\u001b[0m\u001b[0;34m\u001b[0m\u001b[0;34m\u001b[0m\u001b[0m\n",
      "\u001b[0;31mNameError\u001b[0m: name 'model' is not defined",
      "\nDuring handling of the above exception, another exception occurred:\n",
      "\u001b[0;31mValueError\u001b[0m                                Traceback (most recent call last)",
      "\u001b[0;32m<ipython-input-1-09ed3c06cf1a>\u001b[0m in \u001b[0;36m<module>\u001b[0;34m\u001b[0m\n\u001b[1;32m    110\u001b[0m     \u001b[0mmodel\u001b[0m\u001b[0;34m\u001b[0m\u001b[0;34m\u001b[0m\u001b[0m\n\u001b[1;32m    111\u001b[0m \u001b[0;32mexcept\u001b[0m \u001b[0mNameError\u001b[0m\u001b[0;34m:\u001b[0m\u001b[0;34m\u001b[0m\u001b[0;34m\u001b[0m\u001b[0m\n\u001b[0;32m--> 112\u001b[0;31m     \u001b[0;32mraise\u001b[0m \u001b[0mValueError\u001b[0m\u001b[0;34m(\u001b[0m\u001b[0;34m\"Variable 'model' not defined! Make sure to name every keras model 'model'!\"\u001b[0m\u001b[0;34m)\u001b[0m\u001b[0;34m\u001b[0m\u001b[0;34m\u001b[0m\u001b[0m\n\u001b[0m\u001b[1;32m    113\u001b[0m \u001b[0;34m\u001b[0m\u001b[0m\n\u001b[1;32m    114\u001b[0m \u001b[0;31m# COMPILE MODEL\u001b[0m\u001b[0;34m\u001b[0m\u001b[0;34m\u001b[0m\u001b[0;34m\u001b[0m\u001b[0m\n",
      "\u001b[0;31mValueError\u001b[0m: Variable 'model' not defined! Make sure to name every keras model 'model'!"
     ],
     "ename": "ValueError",
     "evalue": "Variable 'model' not defined! Make sure to name every keras model 'model'!",
     "output_type": "error"
    }
   ]
  },
  {
   "cell_type": "markdown",
   "metadata": {
    "id": "xMcysHTcj298"
   },
   "source": [
    "# Evaluate your model"
   ]
  },
  {
   "cell_type": "code",
   "metadata": {
    "id": "h9h8T8xpjUyb"
   },
   "source": [
    "# EVALUATE PERFORMANCE ON TEST DATASET\n",
    "if model_type != 'model_theta':\n",
    "    test_scores = model.evaluate(test_obs, test_trig, verbose=1)\n",
    "    output = model.predict(test_obs)\n",
    "    pred_theta = np.arctan2(output[:, 0], output[:, 1])\n",
    "else:\n",
    "    test_scores = model.evaluate(test_obs, test_theta, verbose=1)\n",
    "    pred_theta = model.predict(test_obs)[:, 0]\n",
    "# print(\"Test loss:\", test_scores)\n",
    "\n",
    "# EVALUATE MODEL ACCURACY\n",
    "# Calculate average error per bin over theta range [-pi, pi]\n",
    "test_error = np.abs(test_theta - pred_theta)\n",
    "test_error[test_error > np.pi] -= 2*np.pi\n",
    "test_error = np.abs(test_error)\n",
    "bins = np.linspace(-np.pi, np.pi, 21)\n",
    "digitized = np.digitize(test_theta, bins)\n",
    "bin_means = np.array([test_error[digitized == i].mean() for i in range(1, len(bins))])\n",
    "fig, ax = plt.subplots()\n",
    "ax.bar(bins[:-1], bin_means, width=np.diff(bins), edgecolor=\"black\", align=\"edge\")\n",
    "ax.set_xlabel('$\\\\theta$')\n",
    "ax.set_ylabel('$|\\\\bar{\\\\theta} -\\\\theta|$')\n",
    "ax.set_title('%s - Average prediction error %s' % (str_model_type, '{:.2e}'.format(test_error.mean())));"
   ],
   "execution_count": null,
   "outputs": []
  },
  {
   "cell_type": "markdown",
   "metadata": {
    "id": "pKwgYomej7t9"
   },
   "source": [
    "# Summary of the model"
   ]
  },
  {
   "cell_type": "code",
   "metadata": {
    "id": "AJClI4xRiEyO"
   },
   "source": [
    "# MODEL SUMMARY\n",
    "model.summary()"
   ],
   "execution_count": null,
   "outputs": []
  }
 ]
}